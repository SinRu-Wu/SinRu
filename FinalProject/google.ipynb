{
 "cells": [
  {
   "cell_type": "code",
   "execution_count": 1,
   "metadata": {},
   "outputs": [],
   "source": [
    "import requests\n",
    "import re\n",
    "from bs4 import BeautifulSoup\n",
    "import numpy as np"
   ]
  },
  {
   "cell_type": "code",
   "execution_count": 2,
   "metadata": {},
   "outputs": [],
   "source": [
    "def get_web_page(url):\n",
    "    headers = {'user-agent': 'Mozilla/5.0 (Windows NT 10.0; Win64; x64) AppleWebKit/537.36 (KHTML, like Gecko) Chrome/71.0.3578.98 Safari/537.36'}\n",
    "    resp = requests.get(url, headers=headers)\n",
    "    resp.encoding='UTF-8'\n",
    "    if resp.status_code != 200:\n",
    "        print('Invalid url:', resp.url)\n",
    "        return None\n",
    "    else:\n",
    "        return resp.text"
   ]
  },
  {
   "cell_type": "code",
   "execution_count": 3,
   "metadata": {},
   "outputs": [],
   "source": [
    "def get_stars_comments(dom):\n",
    "    soup = BeautifulSoup(dom, 'html5lib')\n",
    "    rows = soup.find('div', 'Ob2kfd')\n",
    "    a = rows.get_text()\n",
    "    cop = re.compile(\"[^0-9]\")\n",
    "    aa = cop.sub(\"\", a)\n",
    "    return aa"
   ]
  },
  {
   "cell_type": "code",
   "execution_count": 4,
   "metadata": {},
   "outputs": [],
   "source": [
    "def main():\n",
    "    search_URL = \"https://www.google.com/search?q=\"\n",
    "    file = open('spot.txt', 'r', encoding = 'utf-8')\n",
    "    file_ = open('comment.txt', 'w', encoding = 'utf-8')\n",
    "    lines = file.readlines()\n",
    "    file.close()\n",
    "    for i in range(len(lines)):\n",
    "        item = lines[i]\n",
    "        page = get_web_page(search_URL+item)\n",
    "        if page:\n",
    "            print(get_stars_comments(page))\n",
    "            temp = get_stars_comments(page)\n",
    "            file_.write(temp)\n",
    "            file_.write('/n')\n",
    "    file_.close()"
   ]
  },
  {
   "cell_type": "code",
   "execution_count": 7,
   "metadata": {
    "scrolled": true
   },
   "outputs": [
    {
     "name": "stdout",
     "output_type": "stream",
     "text": [
      "452148\n",
      "4427267\n",
      "40830\n",
      "432179\n",
      "385168\n",
      "4316022\n",
      "432154\n",
      "393730\n",
      "33504\n",
      "442438\n",
      "4412516\n",
      "425340\n",
      "384565\n",
      "424160\n",
      "427781\n",
      "414339\n",
      "432973\n",
      "457023\n",
      "41285\n",
      "404062\n",
      "435051\n",
      "4319\n",
      "412301\n",
      "402470\n",
      "396553\n",
      "431394\n",
      "44222\n",
      "466942\n",
      "419291\n",
      "41285\n",
      "444312\n",
      "40951\n",
      "4431\n",
      "42319\n",
      "434452\n",
      "45773\n",
      "423417\n",
      "44147\n",
      "37132\n",
      "453242\n"
     ]
    }
   ],
   "source": [
    "if __name__ == '__main__':\n",
    "    main()"
   ]
  },
  {
   "cell_type": "code",
   "execution_count": null,
   "metadata": {},
   "outputs": [],
   "source": []
  },
  {
   "cell_type": "code",
   "execution_count": null,
   "metadata": {},
   "outputs": [],
   "source": []
  }
 ],
 "metadata": {
  "kernelspec": {
   "display_name": "Python 3",
   "language": "python",
   "name": "python3"
  },
  "language_info": {
   "codemirror_mode": {
    "name": "ipython",
    "version": 3
   },
   "file_extension": ".py",
   "mimetype": "text/x-python",
   "name": "python",
   "nbconvert_exporter": "python",
   "pygments_lexer": "ipython3",
   "version": "3.7.1"
  }
 },
 "nbformat": 4,
 "nbformat_minor": 2
}
