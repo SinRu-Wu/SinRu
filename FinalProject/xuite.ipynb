{
 "cells": [
  {
   "cell_type": "code",
   "execution_count": 21,
   "metadata": {},
   "outputs": [],
   "source": [
    "import requests\n",
    "import re\n",
    "import json\n",
    "from bs4 import BeautifulSoup\n",
    "\n",
    "search_item = '香港 site:xuite.net' ## search query\n",
    "search_URL = \"https://www.google.co.in/search?q=\" + search_item"
   ]
  },
  {
   "cell_type": "code",
   "execution_count": 22,
   "metadata": {},
   "outputs": [],
   "source": [
    "def get_web_page(url):\n",
    "    resp = requests.get(url)\n",
    "    resp.encoding='UTF-8'\n",
    "    if resp.status_code != 200:\n",
    "        print('Invalid url:', resp.url)\n",
    "        return None\n",
    "    else:\n",
    "        return resp.text\n"
   ]
  },
  {
   "cell_type": "code",
   "execution_count": 23,
   "metadata": {},
   "outputs": [],
   "source": [
    "def get_articles(dom):\n",
    "    articles = []\n",
    "    soup = BeautifulSoup(dom, 'html5lib')\n",
    "    rows = soup.find(id=\"ires\")\n",
    "    rrows = rows.find_all('div', 'g')\n",
    "    id = 1\n",
    "    for rrow in rrows:\n",
    "        article = dict()\n",
    "        p = rrow.find('a')\n",
    "        article['content'] = get_article_contents(p.get('href').lstrip('/url?q='))\n",
    "        article['id'] = id\n",
    "        articles.append(article)\n",
    "        id = id + 1\n",
    "    return articles"
   ]
  },
  {
   "cell_type": "code",
   "execution_count": 24,
   "metadata": {},
   "outputs": [],
   "source": [
    "def get_article_contents(link):\n",
    "    page = get_web_page(link)\n",
    "    if page:\n",
    "        soup = BeautifulSoup(page, 'html5lib')\n",
    "        soup.encoding='UTF-8'\n",
    "        row = soup.find(id=\"content_all\")\n",
    "        text = row.get_text()\n",
    "    return text"
   ]
  },
  {
   "cell_type": "code",
   "execution_count": 25,
   "metadata": {},
   "outputs": [],
   "source": [
    "def main():\n",
    "    page = get_web_page(search_URL)\n",
    "    if page:\n",
    "        articles = get_articles(page)\n",
    "        with open('xuitearticles.json', 'w', encoding='utf-8') as f:\n",
    "            json.dump(articles, f, indent=2, sort_keys=True, ensure_ascii=False)"
   ]
  },
  {
   "cell_type": "code",
   "execution_count": 26,
   "metadata": {},
   "outputs": [],
   "source": [
    "if __name__ == '__main__':\n",
    "    main()"
   ]
  }
 ],
 "metadata": {
  "kernelspec": {
   "display_name": "Python 3",
   "language": "python",
   "name": "python3"
  },
  "language_info": {
   "codemirror_mode": {
    "name": "ipython",
    "version": 3
   },
   "file_extension": ".py",
   "mimetype": "text/x-python",
   "name": "python",
   "nbconvert_exporter": "python",
   "pygments_lexer": "ipython3",
   "version": "3.7.1"
  }
 },
 "nbformat": 4,
 "nbformat_minor": 2
}
